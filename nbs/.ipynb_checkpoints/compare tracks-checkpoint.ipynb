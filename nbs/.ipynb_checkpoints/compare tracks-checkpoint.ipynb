{
 "cells": [
  {
   "cell_type": "markdown",
   "metadata": {},
   "source": [
    "Test the setup of environment variables and ipywidgets install. \n",
    "\n",
    "You should see a slider rendered after the next cell."
   ]
  },
  {
   "cell_type": "code",
   "execution_count": 1,
   "metadata": {},
   "outputs": [
    {
     "data": {
      "application/vnd.jupyter.widget-view+json": {
       "model_id": "3db88c3c10a84770b3c6ade1677c4675",
       "version_major": 2,
       "version_minor": 0
      },
      "text/plain": [
       "FloatSlider(value=0.0)"
      ]
     },
     "metadata": {},
     "output_type": "display_data"
    }
   ],
   "source": [
    "import os.path\n",
    "\n",
    "# Need to set the following variables in your shell environment before starting jupyter\n",
    "ARGOVERSE_VAL_BASE=%env ARGOVERSE_VAL_BASE\n",
    "ARGOVERSE_GEN_BASE=%env ARGOVERSE_GEN_BASE\n",
    "\n",
    "if not os.path.exists(ARGOVERSE_GEN_BASE):\n",
    "    print(\"please set the ARGOVERSE_GEN_BASE and ARGOVERSE_VAL_BASE environment variables\")\n",
    "    raise RuntimeError(\"bad environment\")\n",
    "\n",
    "import ipywidgets\n",
    "ipywidgets.FloatSlider()\n",
    "\n",
    "\n"
   ]
  },
  {
   "cell_type": "markdown",
   "metadata": {},
   "source": [
    "Define some datastructures to load the data from the validation and generated dataset."
   ]
  },
  {
   "cell_type": "code",
   "execution_count": 2,
   "metadata": {},
   "outputs": [],
   "source": [
    "import os\n",
    "import os.path\n",
    "import json\n",
    "\n",
    "import numpy as np\n",
    "from collections import defaultdict\n",
    "\n",
    "from argoverse.utils.ply_loader import load_ply\n",
    "from argoverse.utils.se3 import SE3\n",
    "from argoverse.data_loading.object_classes import OBJ_CLASS_MAPPING_DICT as OBJECT_CLASSES\n",
    "\n",
    "from typing import Any, Dict, List, Optional, Tuple\n",
    "\n",
    "class XYZ:\n",
    "    x: float\n",
    "    y: float\n",
    "    z: float\n",
    "    def __init__(self, *, x: float, y: float, z: float):\n",
    "        self.x = x\n",
    "        self.y = y\n",
    "        self.z = z\n",
    "\n",
    "class TrackedObject:\n",
    "    center: XYZ\n",
    "    track_label_uuid: str\n",
    "    label_class: str\n",
    "        \n",
    "    def __init__(self, *, center: Any, track_label_uuid: str, label_class: str, **other):\n",
    "        self.center = XYZ(**center)\n",
    "        self.track_label_uuid = track_label_uuid\n",
    "        self.label_class = label_class\n",
    "            \n",
    "\n",
    "assert TrackedObject(**{'center': {'x':1, 'y':2, 'z':3}, 'tracked':True, 'label_class': 'VEHICLE', 'track_label_uuid': 'abc'}).center.x==1\n",
    "\n",
    "\n",
    "class Frame:\n",
    "    \"\"\" Hold information about a lidar frame. \"\"\"\n",
    "    \n",
    "    def __init__(self, log_id: str, lidar_ts: str):\n",
    "        self.lidar_ts = lidar_ts\n",
    "        self.log_id = log_id\n",
    "        self.val_base = ARGOVERSE_VAL_BASE\n",
    "        self.gen_base = ARGOVERSE_GEN_BASE\n",
    "        \n",
    "    def val_tracked_fpath(self) -> str:\n",
    "        \"\"\" The name of the file containing tracked objects in the validation set. \"\"\"\n",
    "        return(f\"{self.val_base}/{self.log_id}/per_sweep_annotations_amodal/tracked_object_labels_{self.lidar_ts}.json\")\n",
    "    \n",
    "    def gen_tracked_fpath(self) -> str:\n",
    "        \"\"\" The name of the file containing tracked objects in the generated set. \"\"\"\n",
    "        return(f\"{self.gen_base}/{self.log_id}/tracked_object_labels_{self.lidar_ts}.json\")\n",
    "    \n",
    "    def lidar_pc_fpath(self) -> str:\n",
    "        \"\"\" File name for the lidar pointcloud. \"\"\"\n",
    "        return f\"{self.val_base}/{self.log_id}/lidar/PC_{self.lidar_ts}.ply\"\n",
    "    \n",
    "    def pose_fpath(self) -> str:\n",
    "        \"\"\" File name for the pose path. \"\"\"\n",
    "        return f\"{dataset_dir}/{log_id}/poses/city_SE3_egovehicle_{lidar_ts}.json\"\n",
    "    \n",
    "    def pose_se3(self):\n",
    "        \"\"\"  Load the city_to_egovehicle_se3 for the current timestamp. \"\"\"\n",
    "        pose_data = self.load_file(self.pose_fpath())\n",
    "        rotation = np.array(pose_data[\"rotation\"])\n",
    "        translation = np.array(pose_data[\"translation\"])\n",
    "        return SE3(rotation=quat2rotmat(rotation), translation=translation)\n",
    "\n",
    "    def lidar_pc(self):\n",
    "        \"\"\" Point cloud at current timestamp. \"\"\"\n",
    "        return load_ply(self.lidar_pc_fpath())\n",
    "    \n",
    "    def val_data(self) -> List[TrackedObject]:\n",
    "        return self.load_tracked(self.val_tracked_fpath())\n",
    "    \n",
    "    def gen_data(self) -> List[TrackedObject]:\n",
    "        \"\"\" Return the generated TrackedObjects for this Frame. \"\"\"\n",
    "        return self.load_tracked(self.gen_tracked_fpath())\n",
    "    \n",
    "    def is_valid(self):\n",
    "        \"\"\" Validate that all the filenames exist \"\"\"\n",
    "        if not os.path.exists(self.val_tracked_fpath()):\n",
    "            raise RuntimeError(f\"missing validation tracked file {self.val_tracked_fpath()}\")\n",
    "        if not os.path.exists(self.gen_tracked_fpath()):\n",
    "            raise RuntimeError(f\"missing generated tracked file {self.gen_tracked_fpath()}\")\n",
    "        return True\n",
    "\n",
    "    @classmethod\n",
    "    def load_file(cls, filename: str) -> List[Any]:\n",
    "        \"\"\" Load the json output file \"\"\"\n",
    "        with open(filename,\"r\") as f:\n",
    "            data = json.load(f)\n",
    "        return data\n",
    "    \n",
    "    @classmethod\n",
    "    def load_tracked(cls, filename: str) -> List[TrackedObject]:\n",
    "        \"\"\" Build a list of TrackedObjects from json data. \"\"\"\n",
    "        return [TrackedObject(**d) for d in cls.load_file(filename)]\n",
    "\n",
    "    @staticmethod\n",
    "    def centers_to_np(data: List[TrackedObject]) -> np.ndarray:\n",
    "        \"\"\" Return an array with the centers of the object in shape (objects, 3). \"\"\"\n",
    "        xs = np.array([d.center.x for d in data])[:,np.newaxis]\n",
    "        ys = np.array([d.center.y for d in data])[:,np.newaxis]    \n",
    "        zs = np.array([d.center.z for d in data])[:,np.newaxis]\n",
    "        return np.concatenate(xs,ys,zs)\n",
    "    \n",
    "    @staticmethod\n",
    "    def class_summary(data: List[TrackedObject]) -> Dict[str, int]:\n",
    "        \"\"\" Return a mapping from class names to number of tracked objects of that class. \"\"\"\n",
    "        summary = defaultdict(int)\n",
    "        for d in data:\n",
    "            summary[d.label_class] += 1\n",
    "        \n",
    "        return summary\n"
   ]
  },
  {
   "cell_type": "markdown",
   "metadata": {},
   "source": [
    "Initialize and test frame"
   ]
  },
  {
   "cell_type": "code",
   "execution_count": 3,
   "metadata": {},
   "outputs": [],
   "source": [
    "\n",
    "\n",
    "log_id=\"00c561b9-2057-358d-82c6-5b06d76cebcf\"\n",
    "lidar_ts=\"315969632720337000\"\n",
    "frame = Frame(log_id, lidar_ts)\n",
    "assert frame.is_valid()\n"
   ]
  },
  {
   "cell_type": "code",
   "execution_count": 4,
   "metadata": {},
   "outputs": [
    {
     "name": "stdout",
     "output_type": "stream",
     "text": [
      "validation entries 21 classes defaultdict(<class 'int'>, {'VEHICLE': 18, 'LARGE_VEHICLE': 1, 'PEDESTRIAN': 1, 'TRAILER': 1})\n",
      "generated entries 21 classes defaultdict(<class 'int'>, {'VEHICLE': 18, 'LARGE_VEHICLE': 1, 'PEDESTRIAN': 1, 'TRAILER': 1})\n"
     ]
    }
   ],
   "source": [
    "val_data = frame.val_data()\n",
    "gen_data = frame.gen_data()\n",
    "\n",
    "print(f\"validation entries {len(val_data)} classes {frame.class_summary(val_data)}\")\n",
    "print(f\"generated entries {len(val_data)} classes {frame.class_summary(val_data)}\")\n"
   ]
  },
  {
   "cell_type": "markdown",
   "metadata": {},
   "source": [
    "Compare the validation (green) and generated (red) centers of objects."
   ]
  },
  {
   "cell_type": "code",
   "execution_count": 5,
   "metadata": {},
   "outputs": [
    {
     "ename": "AttributeError",
     "evalue": "module 'numpy' has no attribute 'concat'",
     "output_type": "error",
     "traceback": [
      "\u001b[0;31m---------------------------------------------------------------------------\u001b[0m",
      "\u001b[0;31mAttributeError\u001b[0m                            Traceback (most recent call last)",
      "\u001b[0;32m<ipython-input-5-3ba8fb8ecd47>\u001b[0m in \u001b[0;36m<module>\u001b[0;34m\u001b[0m\n\u001b[1;32m      1\u001b[0m \u001b[0;32mimport\u001b[0m \u001b[0mipyvolume\u001b[0m \u001b[0;32mas\u001b[0m \u001b[0mipv\u001b[0m\u001b[0;34m\u001b[0m\u001b[0;34m\u001b[0m\u001b[0m\n\u001b[1;32m      2\u001b[0m \u001b[0;34m\u001b[0m\u001b[0m\n\u001b[0;32m----> 3\u001b[0;31m \u001b[0mcenters_v\u001b[0m \u001b[0;34m=\u001b[0m \u001b[0mFrame\u001b[0m\u001b[0;34m.\u001b[0m\u001b[0mcenters_to_np\u001b[0m\u001b[0;34m(\u001b[0m\u001b[0mval_data\u001b[0m\u001b[0;34m)\u001b[0m\u001b[0;34m\u001b[0m\u001b[0;34m\u001b[0m\u001b[0m\n\u001b[0m\u001b[1;32m      4\u001b[0m \u001b[0;31m# centers_t = [d+1 for d in centers_t]\u001b[0m\u001b[0;34m\u001b[0m\u001b[0;34m\u001b[0m\u001b[0;34m\u001b[0m\u001b[0m\n\u001b[1;32m      5\u001b[0m \u001b[0mcenters_g\u001b[0m \u001b[0;34m=\u001b[0m \u001b[0mFrame\u001b[0m\u001b[0;34m.\u001b[0m\u001b[0mcenters_to_np\u001b[0m\u001b[0;34m(\u001b[0m\u001b[0mgen_data\u001b[0m\u001b[0;34m)\u001b[0m\u001b[0;34m\u001b[0m\u001b[0;34m\u001b[0m\u001b[0m\n",
      "\u001b[0;32m<ipython-input-2-de4b0b19c0da>\u001b[0m in \u001b[0;36mcenters_to_np\u001b[0;34m(data)\u001b[0m\n\u001b[1;32m    104\u001b[0m         \u001b[0mys\u001b[0m \u001b[0;34m=\u001b[0m \u001b[0mnp\u001b[0m\u001b[0;34m.\u001b[0m\u001b[0marray\u001b[0m\u001b[0;34m(\u001b[0m\u001b[0;34m[\u001b[0m\u001b[0md\u001b[0m\u001b[0;34m.\u001b[0m\u001b[0mcenter\u001b[0m\u001b[0;34m.\u001b[0m\u001b[0my\u001b[0m \u001b[0;32mfor\u001b[0m \u001b[0md\u001b[0m \u001b[0;32min\u001b[0m \u001b[0mdata\u001b[0m\u001b[0;34m]\u001b[0m\u001b[0;34m)\u001b[0m\u001b[0;34m[\u001b[0m\u001b[0;34m:\u001b[0m\u001b[0;34m,\u001b[0m\u001b[0mnp\u001b[0m\u001b[0;34m.\u001b[0m\u001b[0mnewaxis\u001b[0m\u001b[0;34m]\u001b[0m\u001b[0;34m\u001b[0m\u001b[0;34m\u001b[0m\u001b[0m\n\u001b[1;32m    105\u001b[0m         \u001b[0mzs\u001b[0m \u001b[0;34m=\u001b[0m \u001b[0mnp\u001b[0m\u001b[0;34m.\u001b[0m\u001b[0marray\u001b[0m\u001b[0;34m(\u001b[0m\u001b[0;34m[\u001b[0m\u001b[0md\u001b[0m\u001b[0;34m.\u001b[0m\u001b[0mcenter\u001b[0m\u001b[0;34m.\u001b[0m\u001b[0mz\u001b[0m \u001b[0;32mfor\u001b[0m \u001b[0md\u001b[0m \u001b[0;32min\u001b[0m \u001b[0mdata\u001b[0m\u001b[0;34m]\u001b[0m\u001b[0;34m)\u001b[0m\u001b[0;34m[\u001b[0m\u001b[0;34m:\u001b[0m\u001b[0;34m,\u001b[0m\u001b[0mnp\u001b[0m\u001b[0;34m.\u001b[0m\u001b[0mnewaxis\u001b[0m\u001b[0;34m]\u001b[0m\u001b[0;34m\u001b[0m\u001b[0;34m\u001b[0m\u001b[0m\n\u001b[0;32m--> 106\u001b[0;31m         \u001b[0;32mreturn\u001b[0m \u001b[0mnp\u001b[0m\u001b[0;34m.\u001b[0m\u001b[0mconcat\u001b[0m\u001b[0;34m(\u001b[0m\u001b[0mxs\u001b[0m\u001b[0;34m,\u001b[0m\u001b[0mys\u001b[0m\u001b[0;34m,\u001b[0m\u001b[0mzs\u001b[0m\u001b[0;34m)\u001b[0m\u001b[0;34m\u001b[0m\u001b[0;34m\u001b[0m\u001b[0m\n\u001b[0m\u001b[1;32m    107\u001b[0m \u001b[0;34m\u001b[0m\u001b[0m\n\u001b[1;32m    108\u001b[0m     \u001b[0;34m@\u001b[0m\u001b[0mstaticmethod\u001b[0m\u001b[0;34m\u001b[0m\u001b[0;34m\u001b[0m\u001b[0m\n",
      "\u001b[0;31mAttributeError\u001b[0m: module 'numpy' has no attribute 'concat'"
     ]
    }
   ],
   "source": [
    "import ipyvolume as ipv\n",
    "\n",
    "centers_v = Frame.centers_to_np(val_data)\n",
    "# centers_t = [d+1 for d in centers_t]\n",
    "centers_g = Frame.centers_to_np(gen_data)\n",
    "\n",
    "ipv.figure()\n",
    "s = ipv.scatter(centers_v[:,0], centers_v[:,1], centers_v[:,2], marker='sphere', color='green', size=4)\n",
    "s = ipv.scatter(centers_g[:,0], centers_g[:,1], centers_g[:,2], marker='box', color='red', size=2)\n",
    "\n",
    "lims_v = [np.amin(centers_v,0),np.amax(centers_v,1)]\n",
    "lims_g = [np.amin(centers_v,0),np.amax(centers_g,1)]\n",
    "lims = [[min(a[0],b[0]), max(a[1],b[1])] for a,b in zip(lims_v,lims_g)]\n",
    "ipv.xlim(*lims[0])\n",
    "ipv.ylim(*lims[1])\n",
    "ipv.zlim(*lims[2])\n",
    "\n",
    "ipv.animation_control(s) # shows controls for animation controls\n",
    "ipv.show()"
   ]
  },
  {
   "cell_type": "code",
   "execution_count": null,
   "metadata": {},
   "outputs": [],
   "source": [
    "pc = frame.lidar_pc()\n",
    "ipv.figure()\n",
    "s = ipv.scatter(pc[:,0], pc[:,1], pc[:,2], marker='point_2d', color='green', size=4)\n",
    "ipv.animation_control(s) # shows controls for animation controls\n",
    "\n",
    "ipv.show()"
   ]
  },
  {
   "cell_type": "code",
   "execution_count": null,
   "metadata": {},
   "outputs": [],
   "source": []
  },
  {
   "cell_type": "code",
   "execution_count": null,
   "metadata": {},
   "outputs": [],
   "source": []
  }
 ],
 "metadata": {
  "kernelspec": {
   "display_name": "Python 3",
   "language": "python",
   "name": "python3"
  },
  "language_info": {
   "codemirror_mode": {
    "name": "ipython",
    "version": 3
   },
   "file_extension": ".py",
   "mimetype": "text/x-python",
   "name": "python",
   "nbconvert_exporter": "python",
   "pygments_lexer": "ipython3",
   "version": "3.7.4"
  }
 },
 "nbformat": 4,
 "nbformat_minor": 4
}
